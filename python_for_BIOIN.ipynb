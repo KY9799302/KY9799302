{
  "nbformat": 4,
  "nbformat_minor": 0,
  "metadata": {
    "colab": {
      "name": "python for BIOIN",
      "provenance": [],
      "collapsed_sections": [],
      "authorship_tag": "ABX9TyOzcr8PlZQCUJoK8P/hvMqV",
      "include_colab_link": true
    },
    "kernelspec": {
      "name": "python3",
      "display_name": "Python 3"
    }
  },
  "cells": [
    {
      "cell_type": "markdown",
      "metadata": {
        "id": "view-in-github",
        "colab_type": "text"
      },
      "source": [
        "<a href=\"https://colab.research.google.com/github/KY9799302/KY9799302/blob/main/python_for_BIOIN.ipynb\" target=\"_parent\"><img src=\"https://colab.research.google.com/assets/colab-badge.svg\" alt=\"Open In Colab\"/></a>"
      ]
    },
    {
      "cell_type": "code",
      "metadata": {
        "id": "giHQMmae0SDM"
      },
      "source": [
        "G = (0,0)\n",
        "C = (1,1)\n",
        "A = (0,1)\n",
        "T = (1,0) \n",
        "\n",
        "\n",
        " \n",
        "\n",
        "\n",
        "\n",
        "\n"
      ],
      "execution_count": null,
      "outputs": []
    },
    {
      "cell_type": "code",
      "metadata": {
        "id": "Ot5c7M7ubaRz",
        "colab": {
          "base_uri": "https://localhost:8080/",
          "height": 130
        },
        "outputId": "94544802-36f3-44cb-851d-f0a8a0f5ef12"
      },
      "source": [
        "Y = 1\n",
        "print Y"
      ],
      "execution_count": null,
      "outputs": [
        {
          "output_type": "error",
          "ename": "SyntaxError",
          "evalue": "ignored",
          "traceback": [
            "\u001b[0;36m  File \u001b[0;32m\"<ipython-input-1-634c155758f7>\"\u001b[0;36m, line \u001b[0;32m2\u001b[0m\n\u001b[0;31m    print Y\u001b[0m\n\u001b[0m          ^\u001b[0m\n\u001b[0;31mSyntaxError\u001b[0m\u001b[0;31m:\u001b[0m Missing parentheses in call to 'print'. Did you mean print(Y)?\n"
          ]
        }
      ]
    },
    {
      "cell_type": "markdown",
      "metadata": {
        "id": "azIrz3dcSVkW"
      },
      "source": [
        ""
      ]
    },
    {
      "cell_type": "code",
      "metadata": {
        "colab": {
          "base_uri": "https://localhost:8080/"
        },
        "id": "ywUkghhJSWe-",
        "outputId": "02fe415b-01f6-4499-ecaa-398076a4b4f8"
      },
      "source": [
        "pip install bs4"
      ],
      "execution_count": 1,
      "outputs": [
        {
          "output_type": "stream",
          "name": "stdout",
          "text": [
            "Requirement already satisfied: bs4 in /usr/local/lib/python3.7/dist-packages (0.0.1)\n",
            "Requirement already satisfied: beautifulsoup4 in /usr/local/lib/python3.7/dist-packages (from bs4) (4.6.3)\n"
          ]
        }
      ]
    },
    {
      "cell_type": "code",
      "metadata": {
        "id": "F1VCiFB7VSCL"
      },
      "source": [
        "from google.colab import drive\n",
        "drive.mount('/content/drive')"
      ],
      "execution_count": null,
      "outputs": []
    },
    {
      "cell_type": "code",
      "metadata": {
        "colab": {
          "base_uri": "https://localhost:8080/"
        },
        "id": "fsnMCNSEDmYu",
        "outputId": "4fbea22f-b6a6-4255-e445-53702d3a4aab"
      },
      "source": [
        "for x in range(2,5):\n",
        "  print(x, x*4)\n",
        "  print('Oops')"
      ],
      "execution_count": null,
      "outputs": [
        {
          "output_type": "stream",
          "name": "stdout",
          "text": [
            "2 8\n",
            "Oops\n",
            "3 12\n",
            "Oops\n",
            "4 16\n",
            "Oops\n"
          ]
        }
      ]
    },
    {
      "cell_type": "code",
      "metadata": {
        "colab": {
          "base_uri": "https://localhost:8080/"
        },
        "id": "tuH_rrjo99h5",
        "outputId": "2530ec05-6a6c-46ab-c137-20c34274aaee"
      },
      "source": [
        "age = 23\n",
        "print(\"Master graduation year is\", age +3)\n"
      ],
      "execution_count": null,
      "outputs": [
        {
          "output_type": "stream",
          "name": "stdout",
          "text": [
            "Master graduation year is 26\n"
          ]
        }
      ]
    },
    {
      "cell_type": "code",
      "metadata": {
        "colab": {
          "base_uri": "https://localhost:8080/"
        },
        "id": "gtsBWJC4_vaE",
        "outputId": "818f11db-4260-4c42-e4e1-65d1c7deb067"
      },
      "source": [
        "DNA = {\"A\": \"Aly\", \n",
        "       \"T\": \"Thy\",\n",
        "       \"C\": \"Cys\",\n",
        "       \"G\": \"Gly\"}\n",
        "print(DNA)"
      ],
      "execution_count": null,
      "outputs": [
        {
          "output_type": "stream",
          "name": "stdout",
          "text": [
            "{'A': 'Aly', 'T': 'Thy', 'C': 'Cys', 'G': 'Gly'}\n"
          ]
        }
      ]
    },
    {
      "cell_type": "code",
      "metadata": {
        "id": "avVBNW_eApLc"
      },
      "source": [
        "open()"
      ],
      "execution_count": null,
      "outputs": []
    },
    {
      "cell_type": "markdown",
      "metadata": {
        "id": "Li6afLaS_xXC"
      },
      "source": [
        ""
      ]
    },
    {
      "cell_type": "markdown",
      "metadata": {
        "id": "BYkT8YR9Q06N"
      },
      "source": [
        ""
      ]
    },
    {
      "cell_type": "code",
      "metadata": {
        "colab": {
          "base_uri": "https://localhost:8080/"
        },
        "id": "PYDTlfRY7cFL",
        "outputId": "25120b3e-c09d-4280-e524-6e61f95dbda1"
      },
      "source": [
        "G, C\n",
        "A, T\n"
      ],
      "execution_count": null,
      "outputs": [
        {
          "output_type": "execute_result",
          "data": {
            "text/plain": [
              "((0, 1), (1, 0))"
            ]
          },
          "metadata": {},
          "execution_count": 4
        }
      ]
    },
    {
      "cell_type": "code",
      "metadata": {
        "id": "cCykw_Ec-Egw"
      },
      "source": [
        ""
      ],
      "execution_count": null,
      "outputs": []
    },
    {
      "cell_type": "code",
      "metadata": {
        "colab": {
          "base_uri": "https://localhost:8080/"
        },
        "id": "gTKSAgRz7fEg",
        "outputId": "ec500fbe-d4b1-4f34-926f-5329b3a1490b"
      },
      "source": [
        "def trans(dna):\n",
        "  return A\n",
        "\n",
        "trans (dna=[G,G,G])\n",
        "\n"
      ],
      "execution_count": null,
      "outputs": [
        {
          "output_type": "execute_result",
          "data": {
            "text/plain": [
              "(0, 1)"
            ]
          },
          "metadata": {
            "tags": []
          },
          "execution_count": 33
        }
      ]
    },
    {
      "cell_type": "code",
      "metadata": {
        "colab": {
          "base_uri": "https://localhost:8080/"
        },
        "id": "KMcbL_MNAFn7",
        "outputId": "cf20519d-c34a-411c-d738-f54d4b1228ab"
      },
      "source": [
        "def trans(dna):\n",
        "  rna = []\n",
        "  for nucleotide in dna:\n",
        "    new_nucleotide = comp(nucleotide)\n",
        "    rna.append(new_nucleotide)\n",
        "  return rna\n",
        "\n",
        "def comp(K):\n",
        "  return ((K[0]+1)%2,(K[1]+1)%2)\n",
        "  \n",
        "trans (dna=[A, G, T])"
      ],
      "execution_count": null,
      "outputs": [
        {
          "output_type": "execute_result",
          "data": {
            "text/plain": [
              "[(1, 0), (1, 1), (0, 1)]"
            ]
          },
          "metadata": {
            "tags": []
          },
          "execution_count": 66
        }
      ]
    },
    {
      "cell_type": "code",
      "metadata": {
        "id": "jTAzzx79Nj76",
        "colab": {
          "base_uri": "https://localhost:8080/"
        },
        "outputId": "b6ede6d7-91cb-4abb-ad9c-e79e4a235cee"
      },
      "source": [
        "import random\n",
        "\n",
        "print(random.choice([\"G\", \"A\", \"T\"]))\n"
      ],
      "execution_count": null,
      "outputs": [
        {
          "output_type": "stream",
          "text": [
            "T\n"
          ],
          "name": "stdout"
        }
      ]
    },
    {
      "cell_type": "code",
      "metadata": {
        "colab": {
          "base_uri": "https://localhost:8080/"
        },
        "id": "Ge0cCDJ9IuoX",
        "outputId": "ae8b610f-cec2-4215-daee-3bb71a7320b5"
      },
      "source": [
        "\n",
        "((G[0]+1)%2, (G[1]+1)%2)"
      ],
      "execution_count": null,
      "outputs": [
        {
          "output_type": "execute_result",
          "data": {
            "text/plain": [
              "(1, 1)"
            ]
          },
          "metadata": {
            "tags": []
          },
          "execution_count": 57
        }
      ]
    },
    {
      "cell_type": "code",
      "metadata": {
        "id": "d-lfeIxa4lNO"
      },
      "source": [
        "matrix = [i for i in range(4)]\n"
      ],
      "execution_count": null,
      "outputs": []
    }
  ]
}